{
 "cells": [
  {
   "cell_type": "code",
   "execution_count": 1,
   "metadata": {},
   "outputs": [],
   "source": [
    "import pandas as pd\n",
    "\n",
    "# all_ldt_trials3 = pd.read_excel('all ldt subs_all trials3.xlsx')\n",
    "all_naming_sub = pd.read_excel('all naming subjects.xlsx') #useful - has results per person per target word \n",
    "# items_spread = pd.read_excel('items_spreadsheet.xls')\n",
    "# ldt_subjects = pd.read_excel('LDT subject database.xlsx')\n",
    "# ldt_word_item_ana = pd.read_excel('ldt word item analysis.xlsx')\n",
    "item_ana = pd.read_excel('naming word item analysis.xlsx') #also useful - has 1 row per target word and includes analysis per target word\n"
   ]
  },
  {
   "cell_type": "code",
   "execution_count": 2,
   "metadata": {},
   "outputs": [
    {
     "data": {
      "text/plain": [
       "Index(['target', 'short_1st_rel', 'short_1st_rel_err', 'short_other_rel',\n",
       "       'short_other_rel_err', 'short_1st_un', 'short_1st_un_err',\n",
       "       'short_other_un', 'short_other_un_err', 'long_1st_rel',\n",
       "       'long_1st_rel_err', 'long_other_rel', 'long_other_rel_err',\n",
       "       'long_1st_un', 'long_1st_un_err', 'long_other_un', 'long_other_un_err',\n",
       "       'short_first_priming', 'short_other_priming', 'long_first_priming',\n",
       "       'long_other_priming', 'VAR00023', 'VAR00024', 'prime_1st',\n",
       "       'target_length', 'target_loghal', 'target_subtitle',\n",
       "       'target_logsubtitle', 'target_ortho', 'target_pos', 'target_elprt',\n",
       "       'target_elpz', 'target_elpacc', 'target_fanin',\n",
       "       'firstassoc_logsubtitle', 'firstassoc_length', 'firstassoc_loghal',\n",
       "       'firstassoc_ortho', 'firstassoc_elp', 'VAR00002',\n",
       "       'firstassoc_relationtype', 'firstassoc_fas', 'firstassoc_bas',\n",
       "       'firstassoc_fanout', 'firstassoc_fanin', 'firstassoc_lsa',\n",
       "       'firstassoc_lsa_un', 'prime_1st_unrelated', 'prime_other_related',\n",
       "       'prime_other_unrelated', 'otherassoc_lsa_un', 'otherassoc_fas',\n",
       "       'otherassoc_bas', 'otherassoc_fanout', 'otherassoc_rank',\n",
       "       'otherassoc_lsa', 'otherassoc_length', 'otherassoc_loghal',\n",
       "       'otherassoc_logsubtitle', 'otherassoc_ortho', 'otherassoc_elp',\n",
       "       'otherassoc_relation'],\n",
       "      dtype='object')"
      ]
     },
     "execution_count": 2,
     "metadata": {},
     "output_type": "execute_result"
    }
   ],
   "source": [
    "item_ana.columns"
   ]
  },
  {
   "attachments": {},
   "cell_type": "markdown",
   "metadata": {},
   "source": [
    "'target', - target word - str\n",
    "'short_1st_rel', - short 1st related? - int\n",
    "'short_1st_rel_err', - short 1st related error? - int\n",
    "'short_other_rel', - short other related? - int\n",
    "'short_other_rel_err', - short other related error? - int\n",
    "'short_1st_un', - short 1st unrelated? - int\n",
    "'short_1st_un_err', - short 1st unrelated error? - int\n",
    "'short_other_un', - short other unrelated? - int\n",
    "'short_other_un_err' - short other unrelated error? - int\n",
    "\n",
    "'long_1st_rel', - long 1st related?  - int\n",
    "'long_1st_rel_err', - long 1st related error? - int\n",
    "'long_other_rel', - long other rel? - int\n",
    "'long_other_rel_err', - long other rel err?  - int\n",
    "'long_1st_un', - long 1st unrelated?  - int\n",
    "'long_1st_un_err', - long 1st unrelated err? - int\n",
    "'long_other_un',  - long other unrel? - int\n",
    "'long_other_un_err' - long other unrelated error - int\n",
    "\n",
    "'short_first_priming', - int\n",
    "'short_other_priming', - int\n",
    "'long_first_priming', - int\n",
    "'long_other_priming', - int\n",
    "'VAR00023', -str\n",
    "'VAR00024', -str\n",
    "'prime_1st', - first primed word for each target -str\n",
    "'target_length' - length of target word - int\n",
    "\n",
    "<!-- unknown -->\n",
    "'target_loghal', - int\n",
    "'target_subtitle',- int\n",
    "'target_logsubtitle', - int\n",
    "'target_ortho', - int\n",
    "'target_pos', - str\n",
    "'target_elprt',- int\n",
    "'target_elpz', - int\n",
    "'target_elpacc', - int\n",
    "'target_fanin'- int\n"
   ]
  },
  {
   "cell_type": "code",
   "execution_count": 18,
   "metadata": {},
   "outputs": [
    {
     "data": {
      "text/html": [
       "<div>\n",
       "<style scoped>\n",
       "    .dataframe tbody tr th:only-of-type {\n",
       "        vertical-align: middle;\n",
       "    }\n",
       "\n",
       "    .dataframe tbody tr th {\n",
       "        vertical-align: top;\n",
       "    }\n",
       "\n",
       "    .dataframe thead th {\n",
       "        text-align: right;\n",
       "    }\n",
       "</style>\n",
       "<table border=\"1\" class=\"dataframe\">\n",
       "  <thead>\n",
       "    <tr style=\"text-align: right;\">\n",
       "      <th></th>\n",
       "      <th>firstassoc_logsubtitle</th>\n",
       "      <th>firstassoc_length</th>\n",
       "      <th>firstassoc_loghal</th>\n",
       "      <th>firstassoc_ortho</th>\n",
       "      <th>firstassoc_elp</th>\n",
       "      <th>VAR00002</th>\n",
       "      <th>firstassoc_relationtype</th>\n",
       "      <th>firstassoc_fas</th>\n",
       "    </tr>\n",
       "  </thead>\n",
       "  <tbody>\n",
       "    <tr>\n",
       "      <th>0</th>\n",
       "      <td>1.34</td>\n",
       "      <td>6</td>\n",
       "      <td>5.57</td>\n",
       "      <td>0.0</td>\n",
       "      <td>737.93</td>\n",
       "      <td>NaN</td>\n",
       "      <td>synonym</td>\n",
       "      <td>0.053</td>\n",
       "    </tr>\n",
       "    <tr>\n",
       "      <th>1</th>\n",
       "      <td>1.85</td>\n",
       "      <td>10</td>\n",
       "      <td>9.49</td>\n",
       "      <td>0.0</td>\n",
       "      <td>714.32</td>\n",
       "      <td>NaN</td>\n",
       "      <td>synonym</td>\n",
       "      <td>0.282</td>\n",
       "    </tr>\n",
       "    <tr>\n",
       "      <th>2</th>\n",
       "      <td>3.56</td>\n",
       "      <td>6</td>\n",
       "      <td>11.17</td>\n",
       "      <td>2.0</td>\n",
       "      <td>577.39</td>\n",
       "      <td>NaN</td>\n",
       "      <td>antonym</td>\n",
       "      <td>0.340</td>\n",
       "    </tr>\n",
       "    <tr>\n",
       "      <th>3</th>\n",
       "      <td>3.16</td>\n",
       "      <td>5</td>\n",
       "      <td>11.41</td>\n",
       "      <td>0.0</td>\n",
       "      <td>602.57</td>\n",
       "      <td>NaN</td>\n",
       "      <td>antonym</td>\n",
       "      <td>0.503</td>\n",
       "    </tr>\n",
       "    <tr>\n",
       "      <th>4</th>\n",
       "      <td>4.24</td>\n",
       "      <td>3</td>\n",
       "      <td>13.43</td>\n",
       "      <td>0.0</td>\n",
       "      <td>618.35</td>\n",
       "      <td>NaN</td>\n",
       "      <td>fpa</td>\n",
       "      <td>0.192</td>\n",
       "    </tr>\n",
       "    <tr>\n",
       "      <th>...</th>\n",
       "      <td>...</td>\n",
       "      <td>...</td>\n",
       "      <td>...</td>\n",
       "      <td>...</td>\n",
       "      <td>...</td>\n",
       "      <td>...</td>\n",
       "      <td>...</td>\n",
       "      <td>...</td>\n",
       "    </tr>\n",
       "    <tr>\n",
       "      <th>1656</th>\n",
       "      <td>4.11</td>\n",
       "      <td>4</td>\n",
       "      <td>11.40</td>\n",
       "      <td>20.0</td>\n",
       "      <td>578.81</td>\n",
       "      <td>NaN</td>\n",
       "      <td>antonym</td>\n",
       "      <td>0.555</td>\n",
       "    </tr>\n",
       "    <tr>\n",
       "      <th>1657</th>\n",
       "      <td>3.75</td>\n",
       "      <td>4</td>\n",
       "      <td>11.41</td>\n",
       "      <td>13.0</td>\n",
       "      <td>571.64</td>\n",
       "      <td>NaN</td>\n",
       "      <td>synonym</td>\n",
       "      <td>0.250</td>\n",
       "    </tr>\n",
       "    <tr>\n",
       "      <th>1658</th>\n",
       "      <td>1.93</td>\n",
       "      <td>6</td>\n",
       "      <td>5.38</td>\n",
       "      <td>3.0</td>\n",
       "      <td>618.21</td>\n",
       "      <td>NaN</td>\n",
       "      <td>synonym</td>\n",
       "      <td>0.387</td>\n",
       "    </tr>\n",
       "    <tr>\n",
       "      <th>1659</th>\n",
       "      <td>2.20</td>\n",
       "      <td>8</td>\n",
       "      <td>7.87</td>\n",
       "      <td>0.0</td>\n",
       "      <td>660.74</td>\n",
       "      <td>NaN</td>\n",
       "      <td>fpa</td>\n",
       "      <td>0.176</td>\n",
       "    </tr>\n",
       "    <tr>\n",
       "      <th>1660</th>\n",
       "      <td>2.32</td>\n",
       "      <td>6</td>\n",
       "      <td>8.99</td>\n",
       "      <td>2.0</td>\n",
       "      <td>617.93</td>\n",
       "      <td>NaN</td>\n",
       "      <td>bpa</td>\n",
       "      <td>0.101</td>\n",
       "    </tr>\n",
       "  </tbody>\n",
       "</table>\n",
       "<p>1661 rows × 8 columns</p>\n",
       "</div>"
      ],
      "text/plain": [
       "      firstassoc_logsubtitle  firstassoc_length  firstassoc_loghal  \\\n",
       "0                       1.34                  6               5.57   \n",
       "1                       1.85                 10               9.49   \n",
       "2                       3.56                  6              11.17   \n",
       "3                       3.16                  5              11.41   \n",
       "4                       4.24                  3              13.43   \n",
       "...                      ...                ...                ...   \n",
       "1656                    4.11                  4              11.40   \n",
       "1657                    3.75                  4              11.41   \n",
       "1658                    1.93                  6               5.38   \n",
       "1659                    2.20                  8               7.87   \n",
       "1660                    2.32                  6               8.99   \n",
       "\n",
       "      firstassoc_ortho  firstassoc_elp  VAR00002 firstassoc_relationtype  \\\n",
       "0                  0.0          737.93       NaN                 synonym   \n",
       "1                  0.0          714.32       NaN                 synonym   \n",
       "2                  2.0          577.39       NaN                 antonym   \n",
       "3                  0.0          602.57       NaN                 antonym   \n",
       "4                  0.0          618.35       NaN                     fpa   \n",
       "...                ...             ...       ...                     ...   \n",
       "1656              20.0          578.81       NaN                 antonym   \n",
       "1657              13.0          571.64       NaN                 synonym   \n",
       "1658               3.0          618.21       NaN                 synonym   \n",
       "1659               0.0          660.74       NaN                     fpa   \n",
       "1660               2.0          617.93       NaN                     bpa   \n",
       "\n",
       "      firstassoc_fas  \n",
       "0              0.053  \n",
       "1              0.282  \n",
       "2              0.340  \n",
       "3              0.503  \n",
       "4              0.192  \n",
       "...              ...  \n",
       "1656           0.555  \n",
       "1657           0.250  \n",
       "1658           0.387  \n",
       "1659           0.176  \n",
       "1660           0.101  \n",
       "\n",
       "[1661 rows x 8 columns]"
      ]
     },
     "execution_count": 18,
     "metadata": {},
     "output_type": "execute_result"
    }
   ],
   "source": [
    "item_ana[['firstassoc_logsubtitle', 'firstassoc_length', 'firstassoc_loghal',\n",
    "       'firstassoc_ortho', 'firstassoc_elp', 'VAR00002',\n",
    "       'firstassoc_relationtype', 'firstassoc_fas']]"
   ]
  },
  {
   "cell_type": "code",
   "execution_count": 20,
   "metadata": {},
   "outputs": [
    {
     "data": {
      "text/plain": [
       "array(['synonym', 'antonym', 'fpa', 'script', 'unclassified', 'category',\n",
       "       'supraordinate', 'instrument', 'functional property', 'bpa',\n",
       "       'unclassifed', 'perceptual property', 'Instrument', 'action', nan,\n",
       "       'antonymn'], dtype=object)"
      ]
     },
     "execution_count": 20,
     "metadata": {},
     "output_type": "execute_result"
    }
   ],
   "source": [
    "item_ana['firstassoc_relationtype'].unique()"
   ]
  },
  {
   "cell_type": "code",
   "execution_count": 15,
   "metadata": {},
   "outputs": [],
   "source": [
    "truth = []\n",
    "false = []\n",
    "\n",
    "for row in range(item_ana.shape[0]):\n",
    "    if (item_ana['VAR00023'].iloc[row] != item_ana['VAR00024'].iloc[row]):\n",
    "        false.append([item_ana['VAR00023'].iloc[row],item_ana['VAR00024'].iloc[row]])"
   ]
  },
  {
   "attachments": {},
   "cell_type": "markdown",
   "metadata": {},
   "source": [
    "all naming subjects seems to be the dataset with the naming tasks which we are interested in - the one with no fake words\n",
    "also includes subject demographic, RT, acc, prime and target words - look for SOA\n",
    "\n",
    "item_ana also interesting since it has result per target word which means it might be the average results per target word"
   ]
  },
  {
   "cell_type": "code",
   "execution_count": 24,
   "metadata": {},
   "outputs": [],
   "source": [
    "import matplotlib.pyplot as plt\n",
    "\n",
    "wordnet_sim = pd.read_csv('NT_trials_with_path_sim.csv')"
   ]
  },
  {
   "cell_type": "code",
   "execution_count": 44,
   "metadata": {},
   "outputs": [
    {
     "data": {
      "text/plain": [
       "Index(['subjID', 'prime', 'target', 'RT', 'accuracy', 'Path Similarity'], dtype='object')"
      ]
     },
     "execution_count": 44,
     "metadata": {},
     "output_type": "execute_result"
    }
   ],
   "source": [
    "wordnet_sim.columns"
   ]
  },
  {
   "cell_type": "code",
   "execution_count": 55,
   "metadata": {},
   "outputs": [],
   "source": []
  },
  {
   "attachments": {},
   "cell_type": "markdown",
   "metadata": {},
   "source": [
    "there are 1666 unique target words \n",
    "\n",
    "there are 3348 unique prime words\n",
    "\n",
    "continue by finding the averaged results of all participants for each unique prime-target pair \n",
    "\n",
    "focus analysis on prime-target pair \n",
    "\n",
    "the new dataset will include mean and std for each prime-target pair for RT, acc\n",
    "\n",
    "path similarity is constant for prime-target pair"
   ]
  },
  {
   "cell_type": "code",
   "execution_count": 101,
   "metadata": {},
   "outputs": [],
   "source": [
    "target_uni = wordnet_sim['target'].unique()\n",
    "\n",
    "avg_data = pd.DataFrame(columns = ['target','prime','RT', 'RT_std','acc', 'acc_std','path sim']) \n",
    "\n",
    "\n",
    "for target in target_uni:\n",
    "    \n",
    "    subset_upper = wordnet_sim[wordnet_sim['target'] == target]\n",
    "\n",
    "    prime_uni = subset_upper['prime'].unique()\n",
    "\n",
    "    for prime in prime_uni:\n",
    "\n",
    "        subset_lower = subset_upper[subset_upper['prime'] == prime]\n",
    "\n",
    "        row = {'target': [target],'prime': [prime],\\\n",
    "            'RT': [subset_lower['RT'].mean()], \\\n",
    "                'RT_std': [subset_lower['RT'].std()], 'acc': [subset_lower['accuracy'].mean()], 'acc_std': [subset_lower['accuracy'].std()], \\\n",
    "                    'path sim': [subset_lower['Path Similarity'].iloc[0]]}\n",
    "\n",
    "        row_df = pd.DataFrame(row)\n",
    "        avg_data = pd.concat([avg_data, row_df], axis=0, ignore_index=True)"
   ]
  },
  {
   "cell_type": "code",
   "execution_count": 121,
   "metadata": {},
   "outputs": [
    {
     "data": {
      "text/html": [
       "<div>\n",
       "<style scoped>\n",
       "    .dataframe tbody tr th:only-of-type {\n",
       "        vertical-align: middle;\n",
       "    }\n",
       "\n",
       "    .dataframe tbody tr th {\n",
       "        vertical-align: top;\n",
       "    }\n",
       "\n",
       "    .dataframe thead th {\n",
       "        text-align: right;\n",
       "    }\n",
       "</style>\n",
       "<table border=\"1\" class=\"dataframe\">\n",
       "  <thead>\n",
       "    <tr style=\"text-align: right;\">\n",
       "      <th></th>\n",
       "      <th>RT</th>\n",
       "      <th>RT_std</th>\n",
       "      <th>acc</th>\n",
       "      <th>acc_std</th>\n",
       "      <th>path sim</th>\n",
       "    </tr>\n",
       "  </thead>\n",
       "  <tbody>\n",
       "    <tr>\n",
       "      <th>count</th>\n",
       "      <td>70.000000</td>\n",
       "      <td>70.000000</td>\n",
       "      <td>70.000000</td>\n",
       "      <td>70.000000</td>\n",
       "      <td>70.0</td>\n",
       "    </tr>\n",
       "    <tr>\n",
       "      <th>mean</th>\n",
       "      <td>539.670145</td>\n",
       "      <td>168.375597</td>\n",
       "      <td>0.991904</td>\n",
       "      <td>0.044981</td>\n",
       "      <td>1.0</td>\n",
       "    </tr>\n",
       "    <tr>\n",
       "      <th>std</th>\n",
       "      <td>35.244341</td>\n",
       "      <td>55.711143</td>\n",
       "      <td>0.015652</td>\n",
       "      <td>0.077441</td>\n",
       "      <td>0.0</td>\n",
       "    </tr>\n",
       "    <tr>\n",
       "      <th>min</th>\n",
       "      <td>447.646154</td>\n",
       "      <td>78.973020</td>\n",
       "      <td>0.933333</td>\n",
       "      <td>0.000000</td>\n",
       "      <td>1.0</td>\n",
       "    </tr>\n",
       "    <tr>\n",
       "      <th>25%</th>\n",
       "      <td>516.090625</td>\n",
       "      <td>127.646516</td>\n",
       "      <td>0.987607</td>\n",
       "      <td>0.000000</td>\n",
       "      <td>1.0</td>\n",
       "    </tr>\n",
       "    <tr>\n",
       "      <th>50%</th>\n",
       "      <td>541.179895</td>\n",
       "      <td>148.519899</td>\n",
       "      <td>1.000000</td>\n",
       "      <td>0.000000</td>\n",
       "      <td>1.0</td>\n",
       "    </tr>\n",
       "    <tr>\n",
       "      <th>75%</th>\n",
       "      <td>561.259007</td>\n",
       "      <td>209.137507</td>\n",
       "      <td>1.000000</td>\n",
       "      <td>0.111273</td>\n",
       "      <td>1.0</td>\n",
       "    </tr>\n",
       "    <tr>\n",
       "      <th>max</th>\n",
       "      <td>650.950000</td>\n",
       "      <td>317.130216</td>\n",
       "      <td>1.000000</td>\n",
       "      <td>0.251549</td>\n",
       "      <td>1.0</td>\n",
       "    </tr>\n",
       "  </tbody>\n",
       "</table>\n",
       "</div>"
      ],
      "text/plain": [
       "               RT      RT_std        acc    acc_std  path sim\n",
       "count   70.000000   70.000000  70.000000  70.000000      70.0\n",
       "mean   539.670145  168.375597   0.991904   0.044981       1.0\n",
       "std     35.244341   55.711143   0.015652   0.077441       0.0\n",
       "min    447.646154   78.973020   0.933333   0.000000       1.0\n",
       "25%    516.090625  127.646516   0.987607   0.000000       1.0\n",
       "50%    541.179895  148.519899   1.000000   0.000000       1.0\n",
       "75%    561.259007  209.137507   1.000000   0.111273       1.0\n",
       "max    650.950000  317.130216   1.000000   0.251549       1.0"
      ]
     },
     "execution_count": 121,
     "metadata": {},
     "output_type": "execute_result"
    }
   ],
   "source": [
    "avg_data[avg_data['path sim'] == 1].describe()"
   ]
  },
  {
   "cell_type": "code",
   "execution_count": 133,
   "metadata": {},
   "outputs": [],
   "source": [
    "path_uni = avg_data['path sim'].unique()\n",
    "path_uni.sort()\n",
    "\n",
    "rt = []\n",
    "rt_std = []\n",
    "acc = []\n",
    "acc_std = []\n",
    "\n",
    "for path in path_uni:\n",
    "    path_data = avg_data[avg_data['path sim'] == path]\n",
    "\n",
    "    rt.append(path_data['RT'].mean())\n",
    "    rt_std.append(path_data['RT_std'].mean())\n",
    "    acc.append(path_data['acc'].mean())\n",
    "    acc_std.append(path_data['acc_std'].mean())\n"
   ]
  },
  {
   "cell_type": "code",
   "execution_count": 142,
   "metadata": {},
   "outputs": [
    {
     "data": {
      "text/plain": [
       "[<matplotlib.lines.Line2D at 0x22ea775db10>]"
      ]
     },
     "execution_count": 142,
     "metadata": {},
     "output_type": "execute_result"
    },
    {
     "data": {
      "image/png": "[encoded data removed]",
      "text/plain": [
       "<Figure size 432x288 with 1 Axes>"
      ]
     },
     "metadata": {
      "needs_background": "light"
     },
     "output_type": "display_data"
    }
   ],
   "source": [
    "plt.plot(path_uni, rt)"
   ]
  }
 ],
 "metadata": {
  "kernelspec": {
   "display_name": "Python 3",
   "language": "python",
   "name": "python3"
  },
  "language_info": {
   "codemirror_mode": {
    "name": "ipython",
    "version": 3
   },
   "file_extension": ".py",
   "mimetype": "text/x-python",
   "name": "python",
   "nbconvert_exporter": "python",
   "pygments_lexer": "ipython3",
   "version": "3.10.1"
  },
  "orig_nbformat": 4
 },
 "nbformat": 4,
 "nbformat_minor": 2
}
