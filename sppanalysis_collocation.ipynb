{
 "cells": [
  {
   "cell_type": "code",
   "execution_count": 1,
   "metadata": {},
   "outputs": [],
   "source": [
    "import pandas as pd\n",
    "import numpy as np\n",
    "import matplotlib.pyplot as plt\n",
    "import scipy.stats as sp\n",
    "\n",
    "from sppanalysis_script import *"
   ]
  },
  {
   "cell_type": "code",
   "execution_count": 2,
   "metadata": {},
   "outputs": [],
   "source": [
    "wordnet_coll = pd.read_csv('NT_trials_split_up_collocation_pairs.csv')\n",
    "raw_data = pd.read_excel('all naming subjects.xlsx')\n",
    "wordnet_sim = pd.read_csv('NT_trials_split_up_WordNet_pairs.csv')"
   ]
  },
  {
   "cell_type": "code",
   "execution_count": 3,
   "metadata": {},
   "outputs": [],
   "source": [
    "col_50_1, col_1050_1 = data_processing(wordnet_coll, raw_data) #since collocation dataset only contains pairs that are collocated, dont need to split from threshold\n",
    "\n",
    "isi50, isi1050 = data_processing(wordnet_sim, raw_data) #taking only the low pathsim rating wordpairs from wordnet since high pathsim rating has significant effect on RT and acc\n",
    "col_50_0, _, col_1050_0, _ = sim_split(isi50, isi1050, 'Wu-Palmer Similarity', 0.5,0.5)\n"
   ]
  },
  {
   "cell_type": "code",
   "execution_count": 4,
   "metadata": {},
   "outputs": [
    {
     "name": "stdout",
     "output_type": "stream",
     "text": [
      "Ttest_indResult(statistic=6.201242520243868, pvalue=5.622440584759592e-10)\n",
      "Ttest_indResult(statistic=-3.5059495542629078, pvalue=0.00045516890989946387)\n",
      "Ttest_indResult(statistic=6.128540384141927, pvalue=8.900303035322625e-10)\n",
      "Ttest_indResult(statistic=-4.9669866469629635, pvalue=6.81077679171668e-07)\n"
     ]
    }
   ],
   "source": [
    "\"\"\"\n",
    "both tscore results are significant\n",
    "\"\"\"\n",
    "\n",
    "rt50_score, acc50_score = get_tscore(col_50_0, col_50_1)\n",
    "rt1050_score, acc1050_score = get_tscore(col_1050_0, col_1050_1)\n",
    "\n",
    "print(rt50_score)\n",
    "print(acc50_score)\n",
    "print(rt1050_score)\n",
    "print(acc1050_score)"
   ]
  },
  {
   "cell_type": "code",
   "execution_count": 5,
   "metadata": {},
   "outputs": [
    {
     "data": {
      "text/html": [
       "<div>\n",
       "<style scoped>\n",
       "    .dataframe tbody tr th:only-of-type {\n",
       "        vertical-align: middle;\n",
       "    }\n",
       "\n",
       "    .dataframe tbody tr th {\n",
       "        vertical-align: top;\n",
       "    }\n",
       "\n",
       "    .dataframe thead th {\n",
       "        text-align: right;\n",
       "    }\n",
       "</style>\n",
       "<table border=\"1\" class=\"dataframe\">\n",
       "  <thead>\n",
       "    <tr style=\"text-align: right;\">\n",
       "      <th></th>\n",
       "      <th>RT_mean</th>\n",
       "      <th>RT_std</th>\n",
       "      <th>acc_mean</th>\n",
       "      <th>acc_std</th>\n",
       "    </tr>\n",
       "  </thead>\n",
       "  <tbody>\n",
       "    <tr>\n",
       "      <th>less related</th>\n",
       "      <td>555.848528</td>\n",
       "      <td>190.212895</td>\n",
       "      <td>0.984758</td>\n",
       "      <td>0.122514</td>\n",
       "    </tr>\n",
       "    <tr>\n",
       "      <th>more related</th>\n",
       "      <td>541.131921</td>\n",
       "      <td>185.500618</td>\n",
       "      <td>0.990066</td>\n",
       "      <td>0.099182</td>\n",
       "    </tr>\n",
       "  </tbody>\n",
       "</table>\n",
       "</div>"
      ],
      "text/plain": [
       "                 RT_mean      RT_std  acc_mean   acc_std\n",
       "less related  555.848528  190.212895  0.984758  0.122514\n",
       "more related  541.131921  185.500618  0.990066  0.099182"
      ]
     },
     "execution_count": 5,
     "metadata": {},
     "output_type": "execute_result"
    }
   ],
   "source": [
    "get_descrip(col_50_0, col_50_1)"
   ]
  },
  {
   "cell_type": "code",
   "execution_count": 6,
   "metadata": {},
   "outputs": [
    {
     "data": {
      "text/html": [
       "<div>\n",
       "<style scoped>\n",
       "    .dataframe tbody tr th:only-of-type {\n",
       "        vertical-align: middle;\n",
       "    }\n",
       "\n",
       "    .dataframe tbody tr th {\n",
       "        vertical-align: top;\n",
       "    }\n",
       "\n",
       "    .dataframe thead th {\n",
       "        text-align: right;\n",
       "    }\n",
       "</style>\n",
       "<table border=\"1\" class=\"dataframe\">\n",
       "  <thead>\n",
       "    <tr style=\"text-align: right;\">\n",
       "      <th></th>\n",
       "      <th>RT_mean</th>\n",
       "      <th>RT_std</th>\n",
       "      <th>acc_mean</th>\n",
       "      <th>acc_std</th>\n",
       "    </tr>\n",
       "  </thead>\n",
       "  <tbody>\n",
       "    <tr>\n",
       "      <th>less related</th>\n",
       "      <td>545.557447</td>\n",
       "      <td>204.618815</td>\n",
       "      <td>0.984980</td>\n",
       "      <td>0.121632</td>\n",
       "    </tr>\n",
       "    <tr>\n",
       "      <th>more related</th>\n",
       "      <td>529.655571</td>\n",
       "      <td>190.444584</td>\n",
       "      <td>0.992552</td>\n",
       "      <td>0.085986</td>\n",
       "    </tr>\n",
       "  </tbody>\n",
       "</table>\n",
       "</div>"
      ],
      "text/plain": [
       "                 RT_mean      RT_std  acc_mean   acc_std\n",
       "less related  545.557447  204.618815  0.984980  0.121632\n",
       "more related  529.655571  190.444584  0.992552  0.085986"
      ]
     },
     "execution_count": 6,
     "metadata": {},
     "output_type": "execute_result"
    }
   ],
   "source": [
    "get_descrip(col_1050_0, col_1050_1)"
   ]
  },
  {
   "cell_type": "code",
   "execution_count": 7,
   "metadata": {},
   "outputs": [],
   "source": [
    "new_isi50 = pd.concat([col_50_0, col_50_1])\n",
    "new_isi1050 = pd.concat([col_1050_0, col_1050_1])\n",
    "\n",
    "grouped_50 = uni_wordpair(new_isi50, 'Wu-Palmer Similarity')\n",
    "grouped_1050 = uni_wordpair(new_isi1050, 'Wu-Palmer Similarity')"
   ]
  },
  {
   "cell_type": "code",
   "execution_count": 8,
   "metadata": {},
   "outputs": [],
   "source": [
    "list50 = get_sim(grouped_50, '50', 'Wu-Palmer Similarity')\n",
    "list1050 = get_sim(grouped_1050, '1050', 'Wu-Palmer Similarity')"
   ]
  },
  {
   "cell_type": "code",
   "execution_count": 9,
   "metadata": {},
   "outputs": [],
   "source": [
    "make_plots(list50, list1050)"
   ]
  }
 ],
 "metadata": {
  "kernelspec": {
   "display_name": "Python 3",
   "language": "python",
   "name": "python3"
  },
  "language_info": {
   "codemirror_mode": {
    "name": "ipython",
    "version": 3
   },
   "file_extension": ".py",
   "mimetype": "text/x-python",
   "name": "python",
   "nbconvert_exporter": "python",
   "pygments_lexer": "ipython3",
   "version": "3.11.3"
  },
  "orig_nbformat": 4
 },
 "nbformat": 4,
 "nbformat_minor": 2
}
