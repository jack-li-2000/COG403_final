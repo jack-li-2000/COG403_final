{
 "cells": [
  {
   "cell_type": "code",
   "execution_count": 5,
   "metadata": {},
   "outputs": [],
   "source": [
    "import pandas as pd \n",
    "import matplotlib.pyplot as plt\n",
    "import scipy.stats as sp"
   ]
  },
  {
   "attachments": {},
   "cell_type": "markdown",
   "metadata": {},
   "source": [
    "NOTES \n",
    "\n",
    "check significance of reaction time with similarity from SPP \n",
    "\n",
    "check significance of wordnet synonym synset path sim with SPP similarity \n",
    "\n",
    "PATH SIM \n",
    "\n",
    "path similarity is best metric for comparising in wordnet since the implementation for path sim is taking shortest path that connects \n",
    "\n",
    "if 2 words are synonyms, path sim = 1\n",
    "\n",
    "if 2 words are unrelated - path sim = 0\n",
    "\n",
    "For example, dog and canine have a path similarity of 1, because they are synonyms and belong to the same synset. Dog and cat have a path similarity of 0.2, because they are connected by four edges in the WordNet hierarchy. Dog and book have a path similarity of 0.0714, because they are connected by 13 edges in the WordNet hierarchy"
   ]
  },
  {
   "cell_type": "code",
   "execution_count": 6,
   "metadata": {},
   "outputs": [],
   "source": [
    "wordnet_sim = pd.read_csv('NT_trials_all_sims_with_NaNs.csv')\n",
    "\n",
    "raw_data = pd.read_excel('all naming subjects.xlsx')"
   ]
  },
  {
   "cell_type": "code",
   "execution_count": 7,
   "metadata": {},
   "outputs": [],
   "source": [
    "# preprocess raw_data to get data_isi\n",
    "data_isi = raw_data[['Session', 'isi', 'prime', 'target', 'target.RT',\n",
    "       'target.ACC']].dropna()\n",
    "\n",
    "data_isi['prime'] = [word.lower() for word in data_isi['prime']]\n",
    "\n",
    "data_isi = data_isi.rename(columns={'target.RT': 'RT', 'target.ACC': 'accuracy'})\n",
    "\n",
    "# merge data to get isi and session\n",
    "data = pd.merge(wordnet_sim, data_isi, how='inner', on=['prime','target', 'RT', 'accuracy'])\n",
    "data = data.drop_duplicates(subset=['prime','target','RT','accuracy','Session'])\n",
    "\n",
    "# split data into 50ms lag and 1050ms lag\n",
    "isi_data = data.groupby(['isi'])\n",
    "isi50 = isi_data.get_group(50)\n",
    "isi1050 = isi_data.get_group(1050)\n",
    "\n",
    "\n",
    "# find different path sim values\n",
    "pathsim_50_0 = isi50[isi50['Path Similarity'] == 0]\n",
    "pathsim_50_1 = isi50[isi50['Path Similarity'] == 1]\n",
    "\n",
    "pathsim_1050_0 = isi1050[isi1050['Path Similarity'] == 0]\n",
    "pathsim_1050_1 = isi1050[isi1050['Path Similarity'] == 1]"
   ]
  },
  {
   "cell_type": "code",
   "execution_count": 8,
   "metadata": {},
   "outputs": [],
   "source": [
    "pathsim_50_0 = isi50[isi50['Path Similarity'] == 0]\n",
    "pathsim_50_1 = isi50[isi50['Path Similarity'] == 1]\n",
    "\n",
    "pathsim_1050_0 = isi1050[isi1050['Path Similarity'] == 0]\n",
    "pathsim_1050_1 = isi1050[isi1050['Path Similarity'] == 1]"
   ]
  },
  {
   "cell_type": "code",
   "execution_count": 9,
   "metadata": {},
   "outputs": [],
   "source": [
    "# only need 0 and 1 sim \n",
    "\n",
    "# sim_ratings = data['Path Similarity'].unique()\n",
    "# sim_ratings.sort()\n",
    "\n",
    "# t_isi50 = []\n",
    "# t_isi1050 = []\n",
    "\n",
    "# for rating in sim_ratings:\n",
    "#     t_isi50.append(sp.ttest_ind(isi50[isi50['Path Similarity'] == rating]['RT'], isi50[isi50['Path Similarity'] == 1]['RT'])[1])\n",
    "#     t_isi1050.append(sp.ttest_ind(isi1050[isi1050['Path Similarity'] == rating]['RT'], isi1050[isi1050['Path Similarity'] == 1]['RT'])[1])"
   ]
  },
  {
   "cell_type": "code",
   "execution_count": 10,
   "metadata": {},
   "outputs": [
    {
     "data": {
      "text/plain": [
       "Ttest_indResult(statistic=0.8237842188645873, pvalue=0.41009528876236856)"
      ]
     },
     "execution_count": 10,
     "metadata": {},
     "output_type": "execute_result"
    }
   ],
   "source": [
    "sp.ttest_ind(pathsim_50_0['RT'], pathsim_50_1['RT'])"
   ]
  },
  {
   "cell_type": "code",
   "execution_count": 11,
   "metadata": {},
   "outputs": [
    {
     "data": {
      "text/plain": [
       "Ttest_indResult(statistic=2.4744334706836804, pvalue=0.01337405351535823)"
      ]
     },
     "execution_count": 11,
     "metadata": {},
     "output_type": "execute_result"
    }
   ],
   "source": [
    "sp.ttest_ind(pathsim_1050_0['RT'], pathsim_1050_1['RT'])"
   ]
  },
  {
   "cell_type": "code",
   "execution_count": 12,
   "metadata": {},
   "outputs": [
    {
     "data": {
      "text/plain": [
       "count    3929.000000\n",
       "mean      550.130059\n",
       "std       187.498857\n",
       "min         6.000000\n",
       "25%       458.000000\n",
       "50%       523.000000\n",
       "75%       604.000000\n",
       "max      2861.000000\n",
       "Name: RT, dtype: float64"
      ]
     },
     "execution_count": 12,
     "metadata": {},
     "output_type": "execute_result"
    }
   ],
   "source": [
    "pathsim_50_0['RT'].describe()"
   ]
  },
  {
   "cell_type": "code",
   "execution_count": 13,
   "metadata": {},
   "outputs": [
    {
     "data": {
      "text/plain": [
       "count    2006.000000\n",
       "mean      545.932702\n",
       "std       182.055487\n",
       "min         9.000000\n",
       "25%       458.000000\n",
       "50%       522.000000\n",
       "75%       604.000000\n",
       "max      2612.000000\n",
       "Name: RT, dtype: float64"
      ]
     },
     "execution_count": 13,
     "metadata": {},
     "output_type": "execute_result"
    }
   ],
   "source": [
    "pathsim_50_1['RT'].describe()"
   ]
  },
  {
   "cell_type": "code",
   "execution_count": 14,
   "metadata": {},
   "outputs": [
    {
     "data": {
      "text/plain": [
       "count    3674.000000\n",
       "mean      549.829341\n",
       "std       231.001376\n",
       "min         2.000000\n",
       "25%       442.000000\n",
       "50%       507.000000\n",
       "75%       601.000000\n",
       "max      2979.000000\n",
       "Name: RT, dtype: float64"
      ]
     },
     "execution_count": 14,
     "metadata": {},
     "output_type": "execute_result"
    }
   ],
   "source": [
    "pathsim_1050_0['RT'].describe()"
   ]
  },
  {
   "cell_type": "code",
   "execution_count": 15,
   "metadata": {},
   "outputs": [
    {
     "data": {
      "text/plain": [
       "count    1951.000000\n",
       "mean      534.786263\n",
       "std       187.877025\n",
       "min         3.000000\n",
       "25%       440.000000\n",
       "50%       500.000000\n",
       "75%       582.000000\n",
       "max      2542.000000\n",
       "Name: RT, dtype: float64"
      ]
     },
     "execution_count": 15,
     "metadata": {},
     "output_type": "execute_result"
    }
   ],
   "source": [
    "pathsim_1050_1['RT'].describe()"
   ]
  },
  {
   "attachments": {},
   "cell_type": "markdown",
   "metadata": {},
   "source": [
    "REACTION TIME\n",
    "\n",
    "with lag of 1050ms, we see that path sim of 0 is significantly different than path sim of 1 with pathsim = 1having a lower mean than pathsim = 0\n",
    "\n",
    "for lag of 50ms, there is not significant different. an explanation could be that 50ms is not enough for participants to be primed by the prime word"
   ]
  },
  {
   "cell_type": "code",
   "execution_count": 16,
   "metadata": {},
   "outputs": [
    {
     "data": {
      "text/plain": [
       "Ttest_indResult(statistic=-1.1496517907897346, pvalue=0.2503336576989869)"
      ]
     },
     "execution_count": 16,
     "metadata": {},
     "output_type": "execute_result"
    }
   ],
   "source": [
    "sp.ttest_ind(pathsim_50_0['accuracy'], pathsim_50_1['accuracy'])"
   ]
  },
  {
   "cell_type": "code",
   "execution_count": 17,
   "metadata": {},
   "outputs": [
    {
     "data": {
      "text/plain": [
       "Ttest_indResult(statistic=-0.4005267620476077, pvalue=0.6887837926486965)"
      ]
     },
     "execution_count": 17,
     "metadata": {},
     "output_type": "execute_result"
    }
   ],
   "source": [
    "sp.ttest_ind(pathsim_1050_0['accuracy'], pathsim_1050_1['accuracy'])"
   ]
  },
  {
   "cell_type": "code",
   "execution_count": 18,
   "metadata": {},
   "outputs": [],
   "source": [
    "# pathsim_50_0['accuracy'].describe()\n",
    "# pathsim_50_1['accuracy'].describe()\n",
    "# pathsim_1050_0['accuracy'].describe()\n",
    "# pathsim_1050_1['accuracy'].describe()"
   ]
  },
  {
   "attachments": {},
   "cell_type": "markdown",
   "metadata": {},
   "source": [
    "ACCURACY\n",
    "\n",
    "with lag of 50ms, a pvalue of 0.25 indicates there is not a significant difference in accuracy between path sim 0 and 1. a possible explanation for this is that there is not enough time for the word to prime properly for participants\n",
    "\n",
    "with a lag of 1050ms, a pvalue of 0.7 indicates there is an even less significant difference in accuracy between path sim 0 and 1. a possible explanation is that when there is enough time, participants will take longer to respond as shown by the reaction time analysis but will accurately respond given enough time to prime. as can be seen, both path sim 0 and 1 have 99% accuracy"
   ]
  },
  {
   "cell_type": "code",
   "execution_count": 22,
   "metadata": {},
   "outputs": [],
   "source": [
    "def uni_wordpair(data):\n",
    "    target_uni = data['target'].unique()\n",
    "\n",
    "    avg_data = pd.DataFrame(columns = ['target','prime','RT', 'RT_std','acc', 'acc_std','path sim']) \n",
    "\n",
    "\n",
    "    for target in target_uni:\n",
    "        \n",
    "        subset_upper = data[data['target'] == target]\n",
    "\n",
    "        prime_uni = subset_upper['prime'].unique()\n",
    "\n",
    "        for prime in prime_uni:\n",
    "\n",
    "            subset_lower = subset_upper[subset_upper['prime'] == prime]\n",
    "\n",
    "            row = {'target': [target],'prime': [prime],\\\n",
    "                'RT': [subset_lower['RT'].mean()], \\\n",
    "                    'RT_std': [subset_lower['RT'].std()], 'acc': [subset_lower['accuracy'].mean()], 'acc_std': [subset_lower['accuracy'].std()], \\\n",
    "                        'path sim': [subset_lower['Path Similarity'].iloc[0]]}\n",
    "\n",
    "            row_df = pd.DataFrame(row)\n",
    "            avg_data = pd.concat([avg_data, row_df], axis=0, ignore_index=True)\n",
    "\n",
    "    return avg_data"
   ]
  },
  {
   "cell_type": "code",
   "execution_count": 23,
   "metadata": {},
   "outputs": [],
   "source": [
    "wordpair_50 = uni_wordpair(isi50)\n",
    "wordpair_1050 = uni_wordpair(isi1050)"
   ]
  },
  {
   "cell_type": "code",
   "execution_count": 7,
   "metadata": {},
   "outputs": [
    {
     "data": {
      "text/html": [
       "<div>\n",
       "<style scoped>\n",
       "    .dataframe tbody tr th:only-of-type {\n",
       "        vertical-align: middle;\n",
       "    }\n",
       "\n",
       "    .dataframe tbody tr th {\n",
       "        vertical-align: top;\n",
       "    }\n",
       "\n",
       "    .dataframe thead th {\n",
       "        text-align: right;\n",
       "    }\n",
       "</style>\n",
       "<table border=\"1\" class=\"dataframe\">\n",
       "  <thead>\n",
       "    <tr style=\"text-align: right;\">\n",
       "      <th></th>\n",
       "      <th>Unnamed: 0</th>\n",
       "      <th>RT</th>\n",
       "      <th>RT_std</th>\n",
       "      <th>acc</th>\n",
       "      <th>acc_std</th>\n",
       "      <th>path sim</th>\n",
       "      <th>wu palmer</th>\n",
       "      <th>leacock-chodorow</th>\n",
       "      <th>resnik</th>\n",
       "      <th>jiang-conrath</th>\n",
       "      <th>lin</th>\n",
       "    </tr>\n",
       "  </thead>\n",
       "  <tbody>\n",
       "    <tr>\n",
       "      <th>0</th>\n",
       "      <td>count</td>\n",
       "      <td>70.000000</td>\n",
       "      <td>70.000000</td>\n",
       "      <td>70.000000</td>\n",
       "      <td>70.000000</td>\n",
       "      <td>70.0</td>\n",
       "      <td>70.000000</td>\n",
       "      <td>70.000000</td>\n",
       "      <td>6.700000e+01</td>\n",
       "      <td>7.000000e+01</td>\n",
       "      <td>67.0</td>\n",
       "    </tr>\n",
       "    <tr>\n",
       "      <th>1</th>\n",
       "      <td>mean</td>\n",
       "      <td>539.670145</td>\n",
       "      <td>168.375597</td>\n",
       "      <td>0.991904</td>\n",
       "      <td>0.044981</td>\n",
       "      <td>1.0</td>\n",
       "      <td>0.997619</td>\n",
       "      <td>3.462604</td>\n",
       "      <td>1.492537e+298</td>\n",
       "      <td>1.000000e+300</td>\n",
       "      <td>1.0</td>\n",
       "    </tr>\n",
       "    <tr>\n",
       "      <th>2</th>\n",
       "      <td>std</td>\n",
       "      <td>35.244341</td>\n",
       "      <td>55.711143</td>\n",
       "      <td>0.015652</td>\n",
       "      <td>0.077441</td>\n",
       "      <td>0.0</td>\n",
       "      <td>0.013983</td>\n",
       "      <td>0.603876</td>\n",
       "      <td>inf</td>\n",
       "      <td>inf</td>\n",
       "      <td>0.0</td>\n",
       "    </tr>\n",
       "    <tr>\n",
       "      <th>3</th>\n",
       "      <td>min</td>\n",
       "      <td>447.646154</td>\n",
       "      <td>78.973020</td>\n",
       "      <td>0.933333</td>\n",
       "      <td>0.000000</td>\n",
       "      <td>1.0</td>\n",
       "      <td>0.916667</td>\n",
       "      <td>0.693147</td>\n",
       "      <td>4.946012e+00</td>\n",
       "      <td>1.000000e+300</td>\n",
       "      <td>1.0</td>\n",
       "    </tr>\n",
       "    <tr>\n",
       "      <th>4</th>\n",
       "      <td>25%</td>\n",
       "      <td>516.090625</td>\n",
       "      <td>127.646516</td>\n",
       "      <td>0.987607</td>\n",
       "      <td>0.000000</td>\n",
       "      <td>1.0</td>\n",
       "      <td>1.000000</td>\n",
       "      <td>3.637586</td>\n",
       "      <td>7.031850e+00</td>\n",
       "      <td>1.000000e+300</td>\n",
       "      <td>1.0</td>\n",
       "    </tr>\n",
       "    <tr>\n",
       "      <th>5</th>\n",
       "      <td>50%</td>\n",
       "      <td>541.179895</td>\n",
       "      <td>148.519899</td>\n",
       "      <td>1.000000</td>\n",
       "      <td>0.000000</td>\n",
       "      <td>1.0</td>\n",
       "      <td>1.000000</td>\n",
       "      <td>3.637586</td>\n",
       "      <td>8.862999e+00</td>\n",
       "      <td>1.000000e+300</td>\n",
       "      <td>1.0</td>\n",
       "    </tr>\n",
       "    <tr>\n",
       "      <th>6</th>\n",
       "      <td>75%</td>\n",
       "      <td>561.259007</td>\n",
       "      <td>209.137507</td>\n",
       "      <td>1.000000</td>\n",
       "      <td>0.111273</td>\n",
       "      <td>1.0</td>\n",
       "      <td>1.000000</td>\n",
       "      <td>3.637586</td>\n",
       "      <td>1.047816e+01</td>\n",
       "      <td>1.000000e+300</td>\n",
       "      <td>1.0</td>\n",
       "    </tr>\n",
       "    <tr>\n",
       "      <th>7</th>\n",
       "      <td>max</td>\n",
       "      <td>650.950000</td>\n",
       "      <td>317.130216</td>\n",
       "      <td>1.000000</td>\n",
       "      <td>0.251549</td>\n",
       "      <td>1.0</td>\n",
       "      <td>1.000000</td>\n",
       "      <td>3.637586</td>\n",
       "      <td>1.000000e+300</td>\n",
       "      <td>1.000000e+300</td>\n",
       "      <td>1.0</td>\n",
       "    </tr>\n",
       "  </tbody>\n",
       "</table>\n",
       "</div>"
      ],
      "text/plain": [
       "  Unnamed: 0          RT      RT_std        acc    acc_std  path sim  \\\n",
       "0      count   70.000000   70.000000  70.000000  70.000000      70.0   \n",
       "1       mean  539.670145  168.375597   0.991904   0.044981       1.0   \n",
       "2        std   35.244341   55.711143   0.015652   0.077441       0.0   \n",
       "3        min  447.646154   78.973020   0.933333   0.000000       1.0   \n",
       "4        25%  516.090625  127.646516   0.987607   0.000000       1.0   \n",
       "5        50%  541.179895  148.519899   1.000000   0.000000       1.0   \n",
       "6        75%  561.259007  209.137507   1.000000   0.111273       1.0   \n",
       "7        max  650.950000  317.130216   1.000000   0.251549       1.0   \n",
       "\n",
       "   wu palmer  leacock-chodorow         resnik  jiang-conrath   lin  \n",
       "0  70.000000         70.000000   6.700000e+01   7.000000e+01  67.0  \n",
       "1   0.997619          3.462604  1.492537e+298  1.000000e+300   1.0  \n",
       "2   0.013983          0.603876            inf            inf   0.0  \n",
       "3   0.916667          0.693147   4.946012e+00  1.000000e+300   1.0  \n",
       "4   1.000000          3.637586   7.031850e+00  1.000000e+300   1.0  \n",
       "5   1.000000          3.637586   8.862999e+00  1.000000e+300   1.0  \n",
       "6   1.000000          3.637586   1.047816e+01  1.000000e+300   1.0  \n",
       "7   1.000000          3.637586  1.000000e+300  1.000000e+300   1.0  "
      ]
     },
     "execution_count": 7,
     "metadata": {},
     "output_type": "execute_result"
    }
   ],
   "source": [
    "# path_sim_uni = avg_data['path sim'].unique()\n",
    "\n",
    "# for psu in path_sim_uni:\n",
    "#     avg_data[avg_data['path sim'] == psu].describe().to_csv('path_sim describe ' + str(psu) + '.csv')\n",
    "\n",
    "# pd.read_csv('tables/path_sim describe 1.0.csv')\n"
   ]
  },
  {
   "cell_type": "code",
   "execution_count": 27,
   "metadata": {},
   "outputs": [
    {
     "data": {
      "text/html": [
       "<div>\n",
       "<style scoped>\n",
       "    .dataframe tbody tr th:only-of-type {\n",
       "        vertical-align: middle;\n",
       "    }\n",
       "\n",
       "    .dataframe tbody tr th {\n",
       "        vertical-align: top;\n",
       "    }\n",
       "\n",
       "    .dataframe thead th {\n",
       "        text-align: right;\n",
       "    }\n",
       "</style>\n",
       "<table border=\"1\" class=\"dataframe\">\n",
       "  <thead>\n",
       "    <tr style=\"text-align: right;\">\n",
       "      <th></th>\n",
       "      <th>target</th>\n",
       "      <th>prime</th>\n",
       "      <th>RT</th>\n",
       "      <th>RT_std</th>\n",
       "      <th>acc</th>\n",
       "      <th>acc_std</th>\n",
       "      <th>path sim</th>\n",
       "    </tr>\n",
       "  </thead>\n",
       "  <tbody>\n",
       "    <tr>\n",
       "      <th>0</th>\n",
       "      <td>chance</td>\n",
       "      <td>last</td>\n",
       "      <td>541.340426</td>\n",
       "      <td>142.891914</td>\n",
       "      <td>1.000000</td>\n",
       "      <td>0.000000</td>\n",
       "      <td>0.100000</td>\n",
       "    </tr>\n",
       "    <tr>\n",
       "      <th>1</th>\n",
       "      <td>chance</td>\n",
       "      <td>armor</td>\n",
       "      <td>474.041667</td>\n",
       "      <td>126.839673</td>\n",
       "      <td>1.000000</td>\n",
       "      <td>0.000000</td>\n",
       "      <td>0.071429</td>\n",
       "    </tr>\n",
       "    <tr>\n",
       "      <th>2</th>\n",
       "      <td>chance</td>\n",
       "      <td>nuclear</td>\n",
       "      <td>543.714286</td>\n",
       "      <td>193.240555</td>\n",
       "      <td>1.000000</td>\n",
       "      <td>0.000000</td>\n",
       "      <td>0.111111</td>\n",
       "    </tr>\n",
       "    <tr>\n",
       "      <th>3</th>\n",
       "      <td>chance</td>\n",
       "      <td>opportunity</td>\n",
       "      <td>495.743590</td>\n",
       "      <td>108.501933</td>\n",
       "      <td>0.974359</td>\n",
       "      <td>0.160128</td>\n",
       "      <td>1.000000</td>\n",
       "    </tr>\n",
       "    <tr>\n",
       "      <th>4</th>\n",
       "      <td>cats</td>\n",
       "      <td>spinach</td>\n",
       "      <td>518.295455</td>\n",
       "      <td>93.790856</td>\n",
       "      <td>1.000000</td>\n",
       "      <td>0.000000</td>\n",
       "      <td>0.071429</td>\n",
       "    </tr>\n",
       "    <tr>\n",
       "      <th>...</th>\n",
       "      <td>...</td>\n",
       "      <td>...</td>\n",
       "      <td>...</td>\n",
       "      <td>...</td>\n",
       "      <td>...</td>\n",
       "      <td>...</td>\n",
       "      <td>...</td>\n",
       "    </tr>\n",
       "    <tr>\n",
       "      <th>6686</th>\n",
       "      <td>lightning</td>\n",
       "      <td>excellent</td>\n",
       "      <td>571.058824</td>\n",
       "      <td>136.097148</td>\n",
       "      <td>0.941176</td>\n",
       "      <td>0.242536</td>\n",
       "      <td>0.090909</td>\n",
       "    </tr>\n",
       "    <tr>\n",
       "      <th>6687</th>\n",
       "      <td>lightning</td>\n",
       "      <td>thunder</td>\n",
       "      <td>574.333333</td>\n",
       "      <td>86.793241</td>\n",
       "      <td>1.000000</td>\n",
       "      <td>0.000000</td>\n",
       "      <td>0.125000</td>\n",
       "    </tr>\n",
       "    <tr>\n",
       "      <th>6688</th>\n",
       "      <td>FALSE</td>\n",
       "      <td>phony</td>\n",
       "      <td>719.066667</td>\n",
       "      <td>592.114066</td>\n",
       "      <td>0.866667</td>\n",
       "      <td>0.351866</td>\n",
       "      <td>0.090909</td>\n",
       "    </tr>\n",
       "    <tr>\n",
       "      <th>6689</th>\n",
       "      <td>FALSE</td>\n",
       "      <td>untrue</td>\n",
       "      <td>576.666667</td>\n",
       "      <td>115.588350</td>\n",
       "      <td>0.833333</td>\n",
       "      <td>0.408248</td>\n",
       "      <td>0.333333</td>\n",
       "    </tr>\n",
       "    <tr>\n",
       "      <th>6690</th>\n",
       "      <td>FALSE</td>\n",
       "      <td>rung</td>\n",
       "      <td>460.200000</td>\n",
       "      <td>212.249225</td>\n",
       "      <td>1.000000</td>\n",
       "      <td>0.000000</td>\n",
       "      <td>0.076923</td>\n",
       "    </tr>\n",
       "  </tbody>\n",
       "</table>\n",
       "<p>6691 rows × 7 columns</p>\n",
       "</div>"
      ],
      "text/plain": [
       "         target        prime          RT      RT_std       acc   acc_std  \\\n",
       "0        chance         last  541.340426  142.891914  1.000000  0.000000   \n",
       "1        chance        armor  474.041667  126.839673  1.000000  0.000000   \n",
       "2        chance      nuclear  543.714286  193.240555  1.000000  0.000000   \n",
       "3        chance  opportunity  495.743590  108.501933  0.974359  0.160128   \n",
       "4          cats      spinach  518.295455   93.790856  1.000000  0.000000   \n",
       "...         ...          ...         ...         ...       ...       ...   \n",
       "6686  lightning    excellent  571.058824  136.097148  0.941176  0.242536   \n",
       "6687  lightning      thunder  574.333333   86.793241  1.000000  0.000000   \n",
       "6688      FALSE        phony  719.066667  592.114066  0.866667  0.351866   \n",
       "6689      FALSE       untrue  576.666667  115.588350  0.833333  0.408248   \n",
       "6690      FALSE         rung  460.200000  212.249225  1.000000  0.000000   \n",
       "\n",
       "      path sim  \n",
       "0     0.100000  \n",
       "1     0.071429  \n",
       "2     0.111111  \n",
       "3     1.000000  \n",
       "4     0.071429  \n",
       "...        ...  \n",
       "6686  0.090909  \n",
       "6687  0.125000  \n",
       "6688  0.090909  \n",
       "6689  0.333333  \n",
       "6690  0.076923  \n",
       "\n",
       "[6691 rows x 7 columns]"
      ]
     },
     "execution_count": 27,
     "metadata": {},
     "output_type": "execute_result"
    }
   ],
   "source": [
    "wordpair_50"
   ]
  },
  {
   "cell_type": "code",
   "execution_count": 32,
   "metadata": {},
   "outputs": [],
   "source": [
    "def get_sim(avg_data, isi):\n",
    "    sim_uni = avg_data['path sim'].unique()\n",
    "    sim_uni.sort()\n",
    "\n",
    "    rt = []\n",
    "    rt_std = []\n",
    "    acc = []\n",
    "    acc_std = []\n",
    "\n",
    "    for s in sim_uni:\n",
    "        sim_data = avg_data[avg_data['path sim'] == s]\n",
    "\n",
    "        rt.append(sim_data['RT'].mean())\n",
    "        rt_std.append(sim_data['RT_std'].mean())\n",
    "        acc.append(sim_data['acc'].mean())\n",
    "        acc_std.append(sim_data['acc_std'].mean())\n",
    "    return [rt, rt_std, acc, acc_std, sim_uni, 'path sim' + isi]\n"
   ]
  },
  {
   "cell_type": "code",
   "execution_count": 33,
   "metadata": {},
   "outputs": [],
   "source": [
    "path_50 = get_sim(wordpair_50, '50')\n",
    "path_1050 = get_sim(wordpair_1050, '1050')\n",
    "# wu = get_sim('wu palmer')\n",
    "# leacock = get_sim('leacock-chodorow')\n",
    "# res = get_sim('resnik')\n",
    "# jiang = get_sim('jiang-conrath')\n",
    "# lin = get_sim('lin')\n",
    "\n",
    "# sim = [path, wu, leacock, res, jiang, lin]\n"
   ]
  },
  {
   "cell_type": "code",
   "execution_count": 34,
   "metadata": {},
   "outputs": [
    {
     "data": {
      "image/png": "[encoded data removed]",
      "text/plain": [
       "<Figure size 720x288 with 1 Axes>"
      ]
     },
     "metadata": {
      "needs_background": "light"
     },
     "output_type": "display_data"
    },
    {
     "data": {
      "image/png": "[encoded data removed]",
      "text/plain": [
       "<Figure size 720x288 with 1 Axes>"
      ]
     },
     "metadata": {
      "needs_background": "light"
     },
     "output_type": "display_data"
    },
    {
     "data": {
      "image/png": "[encoded data removed]",
      "text/plain": [
       "<Figure size 720x288 with 1 Axes>"
      ]
     },
     "metadata": {
      "needs_background": "light"
     },
     "output_type": "display_data"
    },
    {
     "data": {
      "image/png": "[encoded data removed]",
      "text/plain": [
       "<Figure size 720x288 with 1 Axes>"
      ]
     },
     "metadata": {
      "needs_background": "light"
     },
     "output_type": "display_data"
    },
    {
     "data": {
      "image/png": "[encoded data removed]",
      "text/plain": [
       "<Figure size 720x288 with 1 Axes>"
      ]
     },
     "metadata": {
      "needs_background": "light"
     },
     "output_type": "display_data"
    },
    {
     "data": {
      "image/png": "[encoded data removed]",
      "text/plain": [
       "<Figure size 720x288 with 1 Axes>"
      ]
     },
     "metadata": {
      "needs_background": "light"
     },
     "output_type": "display_data"
    },
    {
     "data": {
      "image/png": "[encoded data removed]",
      "text/plain": [
       "<Figure size 720x288 with 1 Axes>"
      ]
     },
     "metadata": {
      "needs_background": "light"
     },
     "output_type": "display_data"
    },
    {
     "data": {
      "image/png": "[encoded data removed]",
      "text/plain": [
       "<Figure size 720x288 with 1 Axes>"
      ]
     },
     "metadata": {
      "needs_background": "light"
     },
     "output_type": "display_data"
    }
   ],
   "source": [
    "types = ['RT','RT_std','acc','acc_std']\n",
    "axis = ['ms','ms','%','%']\n",
    "\n",
    "\n",
    "for i in range(4):\n",
    "    plt.figure().set_figwidth(10)\n",
    "    plt.plot(path_50[4], path_50[i])\n",
    "    plt.title(path_50[5] + ' ' + types[i])\n",
    "    plt.xlabel('similarity rating')\n",
    "    plt.ylabel(axis[i])\n",
    "    plt.show()\n",
    "    # plt.savefig(s[5] + ' ' + types[i] + '.png')\n",
    "\n",
    "for i in range(4):\n",
    "    plt.figure().set_figwidth(10)\n",
    "    plt.plot(path_1050[4], path_1050[i])\n",
    "    plt.title(path_1050[5] + ' ' + types[i])\n",
    "    plt.xlabel('similarity rating')\n",
    "    plt.ylabel(axis[i])\n",
    "    plt.show()\n",
    "    # plt.savefig(s[5] + ' ' + types[i] + '.png')"
   ]
  }
 ],
 "metadata": {
  "kernelspec": {
   "display_name": "Python 3",
   "language": "python",
   "name": "python3"
  },
  "language_info": {
   "codemirror_mode": {
    "name": "ipython",
    "version": 3
   },
   "file_extension": ".py",
   "mimetype": "text/x-python",
   "name": "python",
   "nbconvert_exporter": "python",
   "pygments_lexer": "ipython3",
   "version": "3.10.1"
  },
  "orig_nbformat": 4
 },
 "nbformat": 4,
 "nbformat_minor": 2
}
