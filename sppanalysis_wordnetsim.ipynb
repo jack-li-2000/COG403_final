{
 "cells": [
  {
   "cell_type": "code",
   "execution_count": 1,
   "metadata": {},
   "outputs": [],
   "source": [
    "import pandas as pd\n",
    "import numpy as np\n",
    "import matplotlib.pyplot as plt\n",
    "import scipy.stats as sp\n",
    "\n",
    "from sppanalysis_script import *"
   ]
  },
  {
   "cell_type": "code",
   "execution_count": 2,
   "metadata": {},
   "outputs": [],
   "source": [
    "raw_data = pd.read_excel('all naming subjects.xlsx')\n",
    "wordnet_sim = pd.read_csv('NT_trials_split_up_WordNet_pairs.csv')"
   ]
  },
  {
   "cell_type": "code",
   "execution_count": 3,
   "metadata": {},
   "outputs": [],
   "source": [
    "isi50, isi1050 = data_processing(wordnet_sim, raw_data) \n",
    "col_50_0, col_50_1, col_1050_0, col_1050_1 = sim_split(isi50, isi1050, 'Wu-Palmer Similarity', 0.5,0.5) # threshold at 0.5 - since rating is linear, should be 50% \n"
   ]
  },
  {
   "cell_type": "code",
   "execution_count": 4,
   "metadata": {},
   "outputs": [
    {
     "data": {
      "text/html": [
       "<div>\n",
       "<style scoped>\n",
       "    .dataframe tbody tr th:only-of-type {\n",
       "        vertical-align: middle;\n",
       "    }\n",
       "\n",
       "    .dataframe tbody tr th {\n",
       "        vertical-align: top;\n",
       "    }\n",
       "\n",
       "    .dataframe thead th {\n",
       "        text-align: right;\n",
       "    }\n",
       "</style>\n",
       "<table border=\"1\" class=\"dataframe\">\n",
       "  <thead>\n",
       "    <tr style=\"text-align: right;\">\n",
       "      <th></th>\n",
       "      <th>Reaction Time</th>\n",
       "      <th>Accuracy</th>\n",
       "    </tr>\n",
       "  </thead>\n",
       "  <tbody>\n",
       "    <tr>\n",
       "      <th>isi_50ms</th>\n",
       "      <td>1.884367e-13</td>\n",
       "      <td>1.228786e-09</td>\n",
       "    </tr>\n",
       "    <tr>\n",
       "      <th>isi_1050ms</th>\n",
       "      <td>1.478007e-11</td>\n",
       "      <td>1.098564e-13</td>\n",
       "    </tr>\n",
       "  </tbody>\n",
       "</table>\n",
       "</div>"
      ],
      "text/plain": [
       "            Reaction Time      Accuracy\n",
       "isi_50ms     1.884367e-13  1.228786e-09\n",
       "isi_1050ms   1.478007e-11  1.098564e-13"
      ]
     },
     "execution_count": 4,
     "metadata": {},
     "output_type": "execute_result"
    }
   ],
   "source": [
    "\"\"\"\n",
    "both tscore results are significant\n",
    "\"\"\"\n",
    "\n",
    "t_table = get_tscore(col_50_0, col_50_1, col_1050_0, col_1050_1)\n",
    "\n",
    "t_table"
   ]
  },
  {
   "cell_type": "code",
   "execution_count": 5,
   "metadata": {},
   "outputs": [
    {
     "data": {
      "text/html": [
       "<div>\n",
       "<style scoped>\n",
       "    .dataframe tbody tr th:only-of-type {\n",
       "        vertical-align: middle;\n",
       "    }\n",
       "\n",
       "    .dataframe tbody tr th {\n",
       "        vertical-align: top;\n",
       "    }\n",
       "\n",
       "    .dataframe thead th {\n",
       "        text-align: right;\n",
       "    }\n",
       "</style>\n",
       "<table border=\"1\" class=\"dataframe\">\n",
       "  <thead>\n",
       "    <tr style=\"text-align: right;\">\n",
       "      <th></th>\n",
       "      <th>RT_mean</th>\n",
       "      <th>RT_std</th>\n",
       "      <th>acc_mean</th>\n",
       "      <th>acc_std</th>\n",
       "    </tr>\n",
       "  </thead>\n",
       "  <tbody>\n",
       "    <tr>\n",
       "      <th>less related</th>\n",
       "      <td>555.848528</td>\n",
       "      <td>190.212895</td>\n",
       "      <td>0.984758</td>\n",
       "      <td>0.122514</td>\n",
       "    </tr>\n",
       "    <tr>\n",
       "      <th>more related</th>\n",
       "      <td>549.453492</td>\n",
       "      <td>186.403051</td>\n",
       "      <td>0.988017</td>\n",
       "      <td>0.108811</td>\n",
       "    </tr>\n",
       "  </tbody>\n",
       "</table>\n",
       "</div>"
      ],
      "text/plain": [
       "                 RT_mean      RT_std  acc_mean   acc_std\n",
       "less related  555.848528  190.212895  0.984758  0.122514\n",
       "more related  549.453492  186.403051  0.988017  0.108811"
      ]
     },
     "execution_count": 5,
     "metadata": {},
     "output_type": "execute_result"
    }
   ],
   "source": [
    "get_descrip(col_50_0, col_50_1)"
   ]
  },
  {
   "cell_type": "code",
   "execution_count": 6,
   "metadata": {},
   "outputs": [
    {
     "data": {
      "text/html": [
       "<div>\n",
       "<style scoped>\n",
       "    .dataframe tbody tr th:only-of-type {\n",
       "        vertical-align: middle;\n",
       "    }\n",
       "\n",
       "    .dataframe tbody tr th {\n",
       "        vertical-align: top;\n",
       "    }\n",
       "\n",
       "    .dataframe thead th {\n",
       "        text-align: right;\n",
       "    }\n",
       "</style>\n",
       "<table border=\"1\" class=\"dataframe\">\n",
       "  <thead>\n",
       "    <tr style=\"text-align: right;\">\n",
       "      <th></th>\n",
       "      <th>RT_mean</th>\n",
       "      <th>RT_std</th>\n",
       "      <th>acc_mean</th>\n",
       "      <th>acc_std</th>\n",
       "    </tr>\n",
       "  </thead>\n",
       "  <tbody>\n",
       "    <tr>\n",
       "      <th>less related</th>\n",
       "      <td>545.557447</td>\n",
       "      <td>204.618815</td>\n",
       "      <td>0.984980</td>\n",
       "      <td>0.121632</td>\n",
       "    </tr>\n",
       "    <tr>\n",
       "      <th>more related</th>\n",
       "      <td>539.241982</td>\n",
       "      <td>199.779348</td>\n",
       "      <td>0.988894</td>\n",
       "      <td>0.104798</td>\n",
       "    </tr>\n",
       "  </tbody>\n",
       "</table>\n",
       "</div>"
      ],
      "text/plain": [
       "                 RT_mean      RT_std  acc_mean   acc_std\n",
       "less related  545.557447  204.618815  0.984980  0.121632\n",
       "more related  539.241982  199.779348  0.988894  0.104798"
      ]
     },
     "execution_count": 6,
     "metadata": {},
     "output_type": "execute_result"
    }
   ],
   "source": [
    "get_descrip(col_1050_0, col_1050_1)"
   ]
  },
  {
   "cell_type": "code",
   "execution_count": 7,
   "metadata": {},
   "outputs": [],
   "source": [
    "grouped_50 = uni_wordpair(isi50, 'Wu-Palmer Similarity')\n",
    "grouped_1050 = uni_wordpair(isi1050, 'Wu-Palmer Similarity')"
   ]
  },
  {
   "cell_type": "code",
   "execution_count": 8,
   "metadata": {},
   "outputs": [],
   "source": [
    "list50 = get_sim(grouped_50, '50', 'Wu-Palmer Similarity')\n",
    "list1050 = get_sim(grouped_1050, '1050', 'Wu-Palmer Similarity')"
   ]
  },
  {
   "cell_type": "code",
   "execution_count": 9,
   "metadata": {},
   "outputs": [],
   "source": [
    "make_plots(list50, list1050)"
   ]
  }
 ],
 "metadata": {
  "kernelspec": {
   "display_name": "Python 3",
   "language": "python",
   "name": "python3"
  },
  "language_info": {
   "codemirror_mode": {
    "name": "ipython",
    "version": 3
   },
   "file_extension": ".py",
   "mimetype": "text/x-python",
   "name": "python",
   "nbconvert_exporter": "python",
   "pygments_lexer": "ipython3",
   "version": "3.11.3"
  },
  "orig_nbformat": 4
 },
 "nbformat": 4,
 "nbformat_minor": 2
}
